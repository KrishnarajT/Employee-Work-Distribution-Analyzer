{
 "cells": [
  {
   "cell_type": "markdown",
   "source": [
    "# Importing stuff and declaring constants"
   ],
   "metadata": {
    "collapsed": false,
    "pycharm": {
     "name": "#%% md\n"
    }
   }
  },
  {
   "cell_type": "code",
   "execution_count": 244,
   "metadata": {
    "collapsed": true,
    "pycharm": {
     "name": "#%%\n"
    }
   },
   "outputs": [],
   "source": [
    "import os\n",
    "import pandas as pd\n",
    "import calendar\n",
    "import numpy as np\n",
    "\n",
    "TOTAL_MONTHLY_HRS = 150"
   ]
  },
  {
   "cell_type": "markdown",
   "source": [
    "# Reading Excel"
   ],
   "metadata": {
    "collapsed": false,
    "pycharm": {
     "name": "#%% md\n"
    }
   }
  },
  {
   "cell_type": "code",
   "execution_count": 245,
   "outputs": [],
   "source": [
    "allocation_sheet_df = pd.read_excel(os.path.join(os.getcwd(), './Main.xlsx'), sheet_name = 'Allocation')\n",
    "employee_sheet_df = pd.read_excel(os.path.join(os.getcwd(), './Main.xlsx'), sheet_name = 'Employees')\n",
    "project_sheet_df = pd.read_excel(os.path.join(os.getcwd(), './Main.xlsx'), sheet_name = 'Projects')"
   ],
   "metadata": {
    "collapsed": false,
    "pycharm": {
     "name": "#%%\n"
    }
   }
  },
  {
   "cell_type": "markdown",
   "source": [
    "# Filtering Data"
   ],
   "metadata": {
    "collapsed": false,
    "pycharm": {
     "name": "#%% md\n"
    }
   }
  },
  {
   "cell_type": "code",
   "execution_count": 246,
   "outputs": [
    {
     "data": {
      "text/plain": "   Year  Month Name of Employee        Branch       Project Name  \\\n0  2023      1         Ramesh R     Developer     Karim Services   \n1  2023      2         Ramesh R     Developer    Starry Artworks   \n2  2023      3            Rohit    Marketting      Earthern Pans   \n3  2023      1         Ramesh R     Developer     Hessington Oil   \n4  2023      3          William            IT     Karim Services   \n5  2023      4        Ramcharan     Technical  Skyler Parachutes   \n6  2023      1           Suresh  Web Designer     Karim Services   \n7  2023      3         Ramesh R     Developer  Skyler Parachutes   \n8  2023      1         Ramesh R     Developer     Karim Services   \n9  2023      1          Sridhar     Developer     Karim Services   \n\n   Number of Hours  Percentage of Monthly Hours  Percentage Free This Month  \n0               50                         27.7                        72.3  \n1               70                         27.7                        72.3  \n2               35                         27.7                        72.3  \n3               10                         27.7                        72.3  \n4               75                         27.7                        72.3  \n5               56                         27.7                        72.3  \n6              100                         27.7                        72.3  \n7               20                         27.7                        72.3  \n8               80                         27.7                        72.3  \n9               80                         27.7                        72.3  ",
      "text/html": "<div>\n<style scoped>\n    .dataframe tbody tr th:only-of-type {\n        vertical-align: middle;\n    }\n\n    .dataframe tbody tr th {\n        vertical-align: top;\n    }\n\n    .dataframe thead th {\n        text-align: right;\n    }\n</style>\n<table border=\"1\" class=\"dataframe\">\n  <thead>\n    <tr style=\"text-align: right;\">\n      <th></th>\n      <th>Year</th>\n      <th>Month</th>\n      <th>Name of Employee</th>\n      <th>Branch</th>\n      <th>Project Name</th>\n      <th>Number of Hours</th>\n      <th>Percentage of Monthly Hours</th>\n      <th>Percentage Free This Month</th>\n    </tr>\n  </thead>\n  <tbody>\n    <tr>\n      <th>0</th>\n      <td>2023</td>\n      <td>1</td>\n      <td>Ramesh R</td>\n      <td>Developer</td>\n      <td>Karim Services</td>\n      <td>50</td>\n      <td>27.7</td>\n      <td>72.3</td>\n    </tr>\n    <tr>\n      <th>1</th>\n      <td>2023</td>\n      <td>2</td>\n      <td>Ramesh R</td>\n      <td>Developer</td>\n      <td>Starry Artworks</td>\n      <td>70</td>\n      <td>27.7</td>\n      <td>72.3</td>\n    </tr>\n    <tr>\n      <th>2</th>\n      <td>2023</td>\n      <td>3</td>\n      <td>Rohit</td>\n      <td>Marketting</td>\n      <td>Earthern Pans</td>\n      <td>35</td>\n      <td>27.7</td>\n      <td>72.3</td>\n    </tr>\n    <tr>\n      <th>3</th>\n      <td>2023</td>\n      <td>1</td>\n      <td>Ramesh R</td>\n      <td>Developer</td>\n      <td>Hessington Oil</td>\n      <td>10</td>\n      <td>27.7</td>\n      <td>72.3</td>\n    </tr>\n    <tr>\n      <th>4</th>\n      <td>2023</td>\n      <td>3</td>\n      <td>William</td>\n      <td>IT</td>\n      <td>Karim Services</td>\n      <td>75</td>\n      <td>27.7</td>\n      <td>72.3</td>\n    </tr>\n    <tr>\n      <th>5</th>\n      <td>2023</td>\n      <td>4</td>\n      <td>Ramcharan</td>\n      <td>Technical</td>\n      <td>Skyler Parachutes</td>\n      <td>56</td>\n      <td>27.7</td>\n      <td>72.3</td>\n    </tr>\n    <tr>\n      <th>6</th>\n      <td>2023</td>\n      <td>1</td>\n      <td>Suresh</td>\n      <td>Web Designer</td>\n      <td>Karim Services</td>\n      <td>100</td>\n      <td>27.7</td>\n      <td>72.3</td>\n    </tr>\n    <tr>\n      <th>7</th>\n      <td>2023</td>\n      <td>3</td>\n      <td>Ramesh R</td>\n      <td>Developer</td>\n      <td>Skyler Parachutes</td>\n      <td>20</td>\n      <td>27.7</td>\n      <td>72.3</td>\n    </tr>\n    <tr>\n      <th>8</th>\n      <td>2023</td>\n      <td>1</td>\n      <td>Ramesh R</td>\n      <td>Developer</td>\n      <td>Karim Services</td>\n      <td>80</td>\n      <td>27.7</td>\n      <td>72.3</td>\n    </tr>\n    <tr>\n      <th>9</th>\n      <td>2023</td>\n      <td>1</td>\n      <td>Sridhar</td>\n      <td>Developer</td>\n      <td>Karim Services</td>\n      <td>80</td>\n      <td>27.7</td>\n      <td>72.3</td>\n    </tr>\n  </tbody>\n</table>\n</div>"
     },
     "execution_count": 246,
     "metadata": {},
     "output_type": "execute_result"
    }
   ],
   "source": [
    "def get_month_number(month_name):\n",
    "    months = {month.lower(): index for index, month in enumerate(calendar.month_name) if month}\n",
    "    return months[month_name.lower()]\n",
    "allocation_sheet_df['Month'] = [get_month_number(i) for i in allocation_sheet_df['Month']]\n",
    "allocation_sheet_df.dropna(inplace = True)\n",
    "allocation_sheet_df.drop_duplicates(inplace = True)\n",
    "allocation_sheet_df"
   ],
   "metadata": {
    "collapsed": false,
    "pycharm": {
     "name": "#%%\n"
    }
   }
  },
  {
   "cell_type": "markdown",
   "source": [
    "# Creating Employees Dictionary which has everything\n",
    "This has all the data about that employee. Now this is a dictionary, and you can use this dictionary which has important data to then plot graphs"
   ],
   "metadata": {
    "collapsed": false,
    "pycharm": {
     "name": "#%% md\n"
    }
   }
  },
  {
   "cell_type": "code",
   "execution_count": 247,
   "outputs": [],
   "source": [
    "employees = {}\n",
    "# template\n",
    "# employee = {\n",
    "#     \"name\": \"\",\n",
    "#     \"position\": \"\",\n",
    "#     \"projects\": {'name': '', 'months' : months},\n",
    "# }\n",
    "\n",
    "for i in range(employee_sheet_df.__len__()):\n",
    "    employee = {'name' : employee_sheet_df.iloc[i].values[0],\n",
    "                'branch': employee_sheet_df.iloc[i].values[1],\n",
    "                'projects': {},\n",
    "                'monthly_hours' : [0 for i in range(1, 13)],\n",
    "                'monthly_time_free' : [0 for i in range(1, 13)]\n",
    "                }\n",
    "    employees[employee_sheet_df.iloc[i].values[0]] = employee\n",
    "\n",
    "\n",
    "newdf = []\n",
    "for _, i in enumerate(employees):\n",
    "    emp_df = allocation_sheet_df[i == allocation_sheet_df['Name of Employee']]\n",
    "    # adding projects\n",
    "    for j in range(len(emp_df)):\n",
    "        employees[i]['projects'][emp_df.iloc[j]['Project Name']] = {}\n",
    "        employees[i]['projects'][emp_df.iloc[j]['Project Name']] = {k:v for (k, v) in zip([calendar.month_name[i] for i in range(1, 13)], [0 for i in range(1, 13)])}\n",
    "    # assigning time for each project\n",
    "    for j in range(len(emp_df)):\n",
    "        employees[i]['projects'][emp_df.iloc[j]['Project Name']][calendar.month_name[emp_df['Month'].iloc[j]]] += \\\n",
    "            emp_df.iloc[j]['Number of Hours']\n",
    "    # assigning monthly hours and free time.\n",
    "    for j in range(1, 13):\n",
    "        employees[i]['monthly_hours'][j - 1] += emp_df[emp_df['Month'] == j]['Number of Hours'].sum()\n",
    "        employees[i]['monthly_time_free'][j - 1] = TOTAL_MONTHLY_HRS - employees[i]['monthly_hours'][j - 1]"
   ],
   "metadata": {
    "collapsed": false,
    "pycharm": {
     "name": "#%%\n"
    }
   }
  },
  {
   "cell_type": "code",
   "execution_count": 248,
   "outputs": [
    {
     "data": {
      "text/plain": "{'Ramesh R': {'name': 'Ramesh R',\n  'branch': 'Developer',\n  'projects': {'Karim Services': {'January': 130,\n    'February': 0,\n    'March': 0,\n    'April': 0,\n    'May': 0,\n    'June': 0,\n    'July': 0,\n    'August': 0,\n    'September': 0,\n    'October': 0,\n    'November': 0,\n    'December': 0},\n   'Starry Artworks': {'January': 0,\n    'February': 70,\n    'March': 0,\n    'April': 0,\n    'May': 0,\n    'June': 0,\n    'July': 0,\n    'August': 0,\n    'September': 0,\n    'October': 0,\n    'November': 0,\n    'December': 0},\n   'Hessington Oil': {'January': 10,\n    'February': 0,\n    'March': 0,\n    'April': 0,\n    'May': 0,\n    'June': 0,\n    'July': 0,\n    'August': 0,\n    'September': 0,\n    'October': 0,\n    'November': 0,\n    'December': 0},\n   'Skyler Parachutes': {'January': 0,\n    'February': 0,\n    'March': 20,\n    'April': 0,\n    'May': 0,\n    'June': 0,\n    'July': 0,\n    'August': 0,\n    'September': 0,\n    'October': 0,\n    'November': 0,\n    'December': 0}},\n  'monthly_hours': [140, 70, 20, 0, 0, 0, 0, 0, 0, 0, 0, 0],\n  'monthly_time_free': [10,\n   80,\n   130,\n   150,\n   150,\n   150,\n   150,\n   150,\n   150,\n   150,\n   150,\n   150]},\n 'Suresh': {'name': 'Suresh',\n  'branch': 'Web Designer',\n  'projects': {'Karim Services': {'January': 100,\n    'February': 0,\n    'March': 0,\n    'April': 0,\n    'May': 0,\n    'June': 0,\n    'July': 0,\n    'August': 0,\n    'September': 0,\n    'October': 0,\n    'November': 0,\n    'December': 0}},\n  'monthly_hours': [100, 0, 0, 0, 0, 0, 0, 0, 0, 0, 0, 0],\n  'monthly_time_free': [50,\n   150,\n   150,\n   150,\n   150,\n   150,\n   150,\n   150,\n   150,\n   150,\n   150,\n   150]},\n 'Ramcharan': {'name': 'Ramcharan',\n  'branch': 'Technical',\n  'projects': {'Skyler Parachutes': {'January': 0,\n    'February': 0,\n    'March': 0,\n    'April': 56,\n    'May': 0,\n    'June': 0,\n    'July': 0,\n    'August': 0,\n    'September': 0,\n    'October': 0,\n    'November': 0,\n    'December': 0}},\n  'monthly_hours': [0, 0, 0, 56, 0, 0, 0, 0, 0, 0, 0, 0],\n  'monthly_time_free': [150,\n   150,\n   150,\n   94,\n   150,\n   150,\n   150,\n   150,\n   150,\n   150,\n   150,\n   150]},\n 'Rohit': {'name': 'Rohit',\n  'branch': 'Marketting',\n  'projects': {'Earthern Pans': {'January': 0,\n    'February': 0,\n    'March': 35,\n    'April': 0,\n    'May': 0,\n    'June': 0,\n    'July': 0,\n    'August': 0,\n    'September': 0,\n    'October': 0,\n    'November': 0,\n    'December': 0}},\n  'monthly_hours': [0, 0, 35, 0, 0, 0, 0, 0, 0, 0, 0, 0],\n  'monthly_time_free': [150,\n   150,\n   115,\n   150,\n   150,\n   150,\n   150,\n   150,\n   150,\n   150,\n   150,\n   150]},\n 'William': {'name': 'William',\n  'branch': 'IT',\n  'projects': {'Karim Services': {'January': 0,\n    'February': 0,\n    'March': 75,\n    'April': 0,\n    'May': 0,\n    'June': 0,\n    'July': 0,\n    'August': 0,\n    'September': 0,\n    'October': 0,\n    'November': 0,\n    'December': 0}},\n  'monthly_hours': [0, 0, 75, 0, 0, 0, 0, 0, 0, 0, 0, 0],\n  'monthly_time_free': [150,\n   150,\n   75,\n   150,\n   150,\n   150,\n   150,\n   150,\n   150,\n   150,\n   150,\n   150]},\n 'Sridhar': {'name': 'Sridhar',\n  'branch': 'Developer',\n  'projects': {'Karim Services': {'January': 80,\n    'February': 0,\n    'March': 0,\n    'April': 0,\n    'May': 0,\n    'June': 0,\n    'July': 0,\n    'August': 0,\n    'September': 0,\n    'October': 0,\n    'November': 0,\n    'December': 0}},\n  'monthly_hours': [80, 0, 0, 0, 0, 0, 0, 0, 0, 0, 0, 0],\n  'monthly_time_free': [70,\n   150,\n   150,\n   150,\n   150,\n   150,\n   150,\n   150,\n   150,\n   150,\n   150,\n   150]}}"
     },
     "execution_count": 248,
     "metadata": {},
     "output_type": "execute_result"
    }
   ],
   "source": [
    "employees"
   ],
   "metadata": {
    "collapsed": false,
    "pycharm": {
     "name": "#%%\n"
    }
   }
  },
  {
   "cell_type": "markdown",
   "source": [
    "# Creating Employee df"
   ],
   "metadata": {
    "collapsed": false,
    "pycharm": {
     "name": "#%% md\n"
    }
   }
  },
  {
   "cell_type": "code",
   "execution_count": 265,
   "outputs": [
    {
     "data": {
      "text/plain": "                name        branch  \\\nRamesh R    Ramesh R     Developer   \nSuresh        Suresh  Web Designer   \nRamcharan  Ramcharan     Technical   \nRohit          Rohit    Marketting   \nWilliam      William            IT   \nSridhar      Sridhar     Developer   \n\n                                                    projects  \\\nRamesh R   {'Karim Services': {'January': 130, 'February'...   \nSuresh     {'Karim Services': {'January': 100, 'February'...   \nRamcharan  {'Skyler Parachutes': {'January': 0, 'February...   \nRohit      {'Earthern Pans': {'January': 0, 'February': 0...   \nWilliam    {'Karim Services': {'January': 0, 'February': ...   \nSridhar    {'Karim Services': {'January': 80, 'February':...   \n\n                                      monthly_hours  \\\nRamesh R   [140, 70, 20, 0, 0, 0, 0, 0, 0, 0, 0, 0]   \nSuresh       [100, 0, 0, 0, 0, 0, 0, 0, 0, 0, 0, 0]   \nRamcharan     [0, 0, 0, 56, 0, 0, 0, 0, 0, 0, 0, 0]   \nRohit         [0, 0, 35, 0, 0, 0, 0, 0, 0, 0, 0, 0]   \nWilliam       [0, 0, 75, 0, 0, 0, 0, 0, 0, 0, 0, 0]   \nSridhar       [80, 0, 0, 0, 0, 0, 0, 0, 0, 0, 0, 0]   \n\n                                           monthly_time_free  \nRamesh R   [10, 80, 130, 150, 150, 150, 150, 150, 150, 15...  \nSuresh     [50, 150, 150, 150, 150, 150, 150, 150, 150, 1...  \nRamcharan  [150, 150, 150, 94, 150, 150, 150, 150, 150, 1...  \nRohit      [150, 150, 115, 150, 150, 150, 150, 150, 150, ...  \nWilliam    [150, 150, 75, 150, 150, 150, 150, 150, 150, 1...  \nSridhar    [70, 150, 150, 150, 150, 150, 150, 150, 150, 1...  ",
      "text/html": "<div>\n<style scoped>\n    .dataframe tbody tr th:only-of-type {\n        vertical-align: middle;\n    }\n\n    .dataframe tbody tr th {\n        vertical-align: top;\n    }\n\n    .dataframe thead th {\n        text-align: right;\n    }\n</style>\n<table border=\"1\" class=\"dataframe\">\n  <thead>\n    <tr style=\"text-align: right;\">\n      <th></th>\n      <th>name</th>\n      <th>branch</th>\n      <th>projects</th>\n      <th>monthly_hours</th>\n      <th>monthly_time_free</th>\n    </tr>\n  </thead>\n  <tbody>\n    <tr>\n      <th>Ramesh R</th>\n      <td>Ramesh R</td>\n      <td>Developer</td>\n      <td>{'Karim Services': {'January': 130, 'February'...</td>\n      <td>[140, 70, 20, 0, 0, 0, 0, 0, 0, 0, 0, 0]</td>\n      <td>[10, 80, 130, 150, 150, 150, 150, 150, 150, 15...</td>\n    </tr>\n    <tr>\n      <th>Suresh</th>\n      <td>Suresh</td>\n      <td>Web Designer</td>\n      <td>{'Karim Services': {'January': 100, 'February'...</td>\n      <td>[100, 0, 0, 0, 0, 0, 0, 0, 0, 0, 0, 0]</td>\n      <td>[50, 150, 150, 150, 150, 150, 150, 150, 150, 1...</td>\n    </tr>\n    <tr>\n      <th>Ramcharan</th>\n      <td>Ramcharan</td>\n      <td>Technical</td>\n      <td>{'Skyler Parachutes': {'January': 0, 'February...</td>\n      <td>[0, 0, 0, 56, 0, 0, 0, 0, 0, 0, 0, 0]</td>\n      <td>[150, 150, 150, 94, 150, 150, 150, 150, 150, 1...</td>\n    </tr>\n    <tr>\n      <th>Rohit</th>\n      <td>Rohit</td>\n      <td>Marketting</td>\n      <td>{'Earthern Pans': {'January': 0, 'February': 0...</td>\n      <td>[0, 0, 35, 0, 0, 0, 0, 0, 0, 0, 0, 0]</td>\n      <td>[150, 150, 115, 150, 150, 150, 150, 150, 150, ...</td>\n    </tr>\n    <tr>\n      <th>William</th>\n      <td>William</td>\n      <td>IT</td>\n      <td>{'Karim Services': {'January': 0, 'February': ...</td>\n      <td>[0, 0, 75, 0, 0, 0, 0, 0, 0, 0, 0, 0]</td>\n      <td>[150, 150, 75, 150, 150, 150, 150, 150, 150, 1...</td>\n    </tr>\n    <tr>\n      <th>Sridhar</th>\n      <td>Sridhar</td>\n      <td>Developer</td>\n      <td>{'Karim Services': {'January': 80, 'February':...</td>\n      <td>[80, 0, 0, 0, 0, 0, 0, 0, 0, 0, 0, 0]</td>\n      <td>[70, 150, 150, 150, 150, 150, 150, 150, 150, 1...</td>\n    </tr>\n  </tbody>\n</table>\n</div>"
     },
     "execution_count": 265,
     "metadata": {},
     "output_type": "execute_result"
    }
   ],
   "source": [
    "employee_df = pd.DataFrame(employees).transpose()\n",
    "# employee_df[[True if 'Karim Services' in i.keys() else False for i in employee_df.projects ]]\n",
    "employee_df"
   ],
   "metadata": {
    "collapsed": false,
    "pycharm": {
     "name": "#%%\n"
    }
   }
  },
  {
   "cell_type": "markdown",
   "source": [
    "# Graphs"
   ],
   "metadata": {
    "collapsed": false,
    "pycharm": {
     "name": "#%% md\n"
    }
   }
  },
  {
   "cell_type": "code",
   "execution_count": null,
   "outputs": [],
   "source": [],
   "metadata": {
    "collapsed": false,
    "pycharm": {
     "name": "#%%\n"
    }
   }
  }
 ],
 "metadata": {
  "kernelspec": {
   "display_name": "Python 3",
   "language": "python",
   "name": "python3"
  },
  "language_info": {
   "codemirror_mode": {
    "name": "ipython",
    "version": 2
   },
   "file_extension": ".py",
   "mimetype": "text/x-python",
   "name": "python",
   "nbconvert_exporter": "python",
   "pygments_lexer": "ipython2",
   "version": "2.7.6"
  }
 },
 "nbformat": 4,
 "nbformat_minor": 0
}