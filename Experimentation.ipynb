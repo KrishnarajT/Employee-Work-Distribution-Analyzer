{
 "cells": [
  {
   "cell_type": "markdown",
   "metadata": {
    "collapsed": false,
    "pycharm": {
     "name": "#%% md\n"
    }
   },
   "source": [
    "# Importing stuff and declaring constants\n"
   ]
  },
  {
   "cell_type": "code",
   "execution_count": 457,
   "metadata": {
    "collapsed": true,
    "pycharm": {
     "name": "#%%\n"
    }
   },
   "outputs": [
    {
     "data": {
      "text/plain": [
       "January      150\n",
       "February     150\n",
       "March        150\n",
       "April        150\n",
       "May          150\n",
       "June         150\n",
       "July         150\n",
       "August       150\n",
       "September    150\n",
       "October      150\n",
       "November     150\n",
       "December     150\n",
       "dtype: int64"
      ]
     },
     "execution_count": 457,
     "metadata": {},
     "output_type": "execute_result"
    }
   ],
   "source": [
    "import os\n",
    "import pandas as pd\n",
    "import calendar\n",
    "from datetime import datetime\n",
    "# import matplotlib_inline\n",
    "import matplotlib.pyplot as plt\n",
    "import numpy as np\n",
    "\n",
    "TOTAL_MONTHLY_HRS = 150\n",
    "monthly_hours = {calendar.month_name[i]: TOTAL_MONTHLY_HRS for i in range(1, 13)}\n",
    "monthly_hours = pd.Series(monthly_hours)\n",
    "monthly_hours"
   ]
  },
  {
   "cell_type": "markdown",
   "metadata": {
    "collapsed": false,
    "pycharm": {
     "name": "#%% md\n"
    }
   },
   "source": [
    "# Reading Excel\n"
   ]
  },
  {
   "cell_type": "code",
   "execution_count": 458,
   "metadata": {
    "collapsed": false,
    "pycharm": {
     "name": "#%%\n"
    }
   },
   "outputs": [],
   "source": [
    "allocation_sheet_df = pd.read_excel(os.path.join(\n",
    "    os.getcwd(), './Main.xlsx'), sheet_name='Allocation')\n",
    "employee_sheet_df = pd.read_excel(os.path.join(\n",
    "    os.getcwd(), './Main.xlsx'), sheet_name='Employees')\n",
    "project_sheet_df = pd.read_excel(os.path.join(\n",
    "    os.getcwd(), './Main.xlsx'), sheet_name='Projects')\n"
   ]
  },
  {
   "cell_type": "markdown",
   "metadata": {
    "collapsed": false,
    "pycharm": {
     "name": "#%% md\n"
    }
   },
   "source": [
    "# Filtering Data\n"
   ]
  },
  {
   "cell_type": "code",
   "execution_count": 459,
   "metadata": {
    "collapsed": false,
    "pycharm": {
     "name": "#%%\n"
    }
   },
   "outputs": [
    {
     "data": {
      "text/html": [
       "<div>\n",
       "<style scoped>\n",
       "    .dataframe tbody tr th:only-of-type {\n",
       "        vertical-align: middle;\n",
       "    }\n",
       "\n",
       "    .dataframe tbody tr th {\n",
       "        vertical-align: top;\n",
       "    }\n",
       "\n",
       "    .dataframe thead th {\n",
       "        text-align: right;\n",
       "    }\n",
       "</style>\n",
       "<table border=\"1\" class=\"dataframe\">\n",
       "  <thead>\n",
       "    <tr style=\"text-align: right;\">\n",
       "      <th></th>\n",
       "      <th>Year</th>\n",
       "      <th>Month</th>\n",
       "      <th>Name of Employee</th>\n",
       "      <th>Branch</th>\n",
       "      <th>Project Name</th>\n",
       "      <th>Number of Hours</th>\n",
       "      <th>Percentage of Monthly Hours</th>\n",
       "      <th>Percentage Free This Month</th>\n",
       "    </tr>\n",
       "  </thead>\n",
       "  <tbody>\n",
       "    <tr>\n",
       "      <th>0</th>\n",
       "      <td>2023</td>\n",
       "      <td>1</td>\n",
       "      <td>Ramesh R</td>\n",
       "      <td>Developer</td>\n",
       "      <td>Karim Services</td>\n",
       "      <td>50</td>\n",
       "      <td>27.7</td>\n",
       "      <td>72.3</td>\n",
       "    </tr>\n",
       "    <tr>\n",
       "      <th>1</th>\n",
       "      <td>2023</td>\n",
       "      <td>2</td>\n",
       "      <td>Ramesh R</td>\n",
       "      <td>Developer</td>\n",
       "      <td>Starry Artworks</td>\n",
       "      <td>70</td>\n",
       "      <td>27.7</td>\n",
       "      <td>72.3</td>\n",
       "    </tr>\n",
       "    <tr>\n",
       "      <th>2</th>\n",
       "      <td>2023</td>\n",
       "      <td>3</td>\n",
       "      <td>Rohit</td>\n",
       "      <td>Marketting</td>\n",
       "      <td>Earthern Pans</td>\n",
       "      <td>35</td>\n",
       "      <td>27.7</td>\n",
       "      <td>72.3</td>\n",
       "    </tr>\n",
       "    <tr>\n",
       "      <th>3</th>\n",
       "      <td>2023</td>\n",
       "      <td>1</td>\n",
       "      <td>Ramesh R</td>\n",
       "      <td>Developer</td>\n",
       "      <td>Hessington Oil</td>\n",
       "      <td>10</td>\n",
       "      <td>27.7</td>\n",
       "      <td>72.3</td>\n",
       "    </tr>\n",
       "    <tr>\n",
       "      <th>4</th>\n",
       "      <td>2023</td>\n",
       "      <td>3</td>\n",
       "      <td>William</td>\n",
       "      <td>IT</td>\n",
       "      <td>Karim Services</td>\n",
       "      <td>75</td>\n",
       "      <td>27.7</td>\n",
       "      <td>72.3</td>\n",
       "    </tr>\n",
       "    <tr>\n",
       "      <th>5</th>\n",
       "      <td>2023</td>\n",
       "      <td>4</td>\n",
       "      <td>Ramcharan</td>\n",
       "      <td>Technical</td>\n",
       "      <td>Skyler Parachutes</td>\n",
       "      <td>56</td>\n",
       "      <td>27.7</td>\n",
       "      <td>72.3</td>\n",
       "    </tr>\n",
       "    <tr>\n",
       "      <th>6</th>\n",
       "      <td>2023</td>\n",
       "      <td>1</td>\n",
       "      <td>Suresh</td>\n",
       "      <td>Web Designer</td>\n",
       "      <td>Karim Services</td>\n",
       "      <td>100</td>\n",
       "      <td>27.7</td>\n",
       "      <td>72.3</td>\n",
       "    </tr>\n",
       "    <tr>\n",
       "      <th>7</th>\n",
       "      <td>2023</td>\n",
       "      <td>3</td>\n",
       "      <td>Ramesh R</td>\n",
       "      <td>Developer</td>\n",
       "      <td>Skyler Parachutes</td>\n",
       "      <td>20</td>\n",
       "      <td>27.7</td>\n",
       "      <td>72.3</td>\n",
       "    </tr>\n",
       "    <tr>\n",
       "      <th>8</th>\n",
       "      <td>2023</td>\n",
       "      <td>1</td>\n",
       "      <td>Ramesh R</td>\n",
       "      <td>Developer</td>\n",
       "      <td>Karim Services</td>\n",
       "      <td>80</td>\n",
       "      <td>27.7</td>\n",
       "      <td>72.3</td>\n",
       "    </tr>\n",
       "    <tr>\n",
       "      <th>9</th>\n",
       "      <td>2023</td>\n",
       "      <td>1</td>\n",
       "      <td>Sridhar</td>\n",
       "      <td>Developer</td>\n",
       "      <td>Karim Services</td>\n",
       "      <td>80</td>\n",
       "      <td>27.7</td>\n",
       "      <td>72.3</td>\n",
       "    </tr>\n",
       "  </tbody>\n",
       "</table>\n",
       "</div>"
      ],
      "text/plain": [
       "   Year  Month Name of Employee        Branch       Project Name  \\\n",
       "0  2023      1         Ramesh R     Developer     Karim Services   \n",
       "1  2023      2         Ramesh R     Developer    Starry Artworks   \n",
       "2  2023      3            Rohit    Marketting      Earthern Pans   \n",
       "3  2023      1         Ramesh R     Developer     Hessington Oil   \n",
       "4  2023      3          William            IT     Karim Services   \n",
       "5  2023      4        Ramcharan     Technical  Skyler Parachutes   \n",
       "6  2023      1           Suresh  Web Designer     Karim Services   \n",
       "7  2023      3         Ramesh R     Developer  Skyler Parachutes   \n",
       "8  2023      1         Ramesh R     Developer     Karim Services   \n",
       "9  2023      1          Sridhar     Developer     Karim Services   \n",
       "\n",
       "   Number of Hours  Percentage of Monthly Hours  Percentage Free This Month  \n",
       "0               50                         27.7                        72.3  \n",
       "1               70                         27.7                        72.3  \n",
       "2               35                         27.7                        72.3  \n",
       "3               10                         27.7                        72.3  \n",
       "4               75                         27.7                        72.3  \n",
       "5               56                         27.7                        72.3  \n",
       "6              100                         27.7                        72.3  \n",
       "7               20                         27.7                        72.3  \n",
       "8               80                         27.7                        72.3  \n",
       "9               80                         27.7                        72.3  "
      ]
     },
     "execution_count": 459,
     "metadata": {},
     "output_type": "execute_result"
    }
   ],
   "source": [
    "def get_month_number(month_name):\n",
    "    months = {month.lower(): index for index, month in enumerate(\n",
    "        calendar.month_name) if month}\n",
    "    return months[month_name.lower()]\n",
    "\n",
    "\n",
    "allocation_sheet_df['Month'] = [get_month_number(\n",
    "    i) for i in allocation_sheet_df['Month']]\n",
    "allocation_sheet_df.dropna(inplace=True)\n",
    "allocation_sheet_df.drop_duplicates(inplace=True)\n",
    "allocation_sheet_df\n"
   ]
  },
  {
   "cell_type": "markdown",
   "metadata": {
    "collapsed": false,
    "pycharm": {
     "name": "#%% md\n"
    }
   },
   "source": [
    "# Creating Employees Dictionary which has everything\n",
    "\n",
    "This has all the data about that employee. Now this is a dictionary, and you can use this dictionary which has important data to then plot graphs\n"
   ]
  },
  {
   "cell_type": "code",
   "execution_count": 460,
   "metadata": {
    "collapsed": false,
    "pycharm": {
     "name": "#%%\n"
    }
   },
   "outputs": [],
   "source": [
    "employees = {}\n",
    "# template\n",
    "# employee = {\n",
    "#     \"name\": \"\",\n",
    "#     \"position\": \"\",\n",
    "#     \"projects\": {'name': '', 'months' : months},\n",
    "# }\n",
    "\n",
    "for i in range(employee_sheet_df.__len__()):\n",
    "    employee = {'name': employee_sheet_df.iloc[i].values[0],\n",
    "                'branch': employee_sheet_df.iloc[i].values[1],\n",
    "                'projects': {},\n",
    "                }\n",
    "    employees[employee_sheet_df.iloc[i].values[0]] = employee\n",
    "\n",
    "\n",
    "newdf = []\n",
    "for _, i in enumerate(employees):\n",
    "    emp_df = allocation_sheet_df[i == allocation_sheet_df['Name of Employee']]\n",
    "    # adding projects\n",
    "    for j in range(len(emp_df)):\n",
    "        employees[i]['projects'][emp_df.iloc[j]['Project Name']] = {}\n",
    "        employees[i]['projects'][emp_df.iloc[j]['Project Name']] = {k: v for (k, v) in zip(\n",
    "            [calendar.month_name[i] for i in range(1, 13)], [0 for i in range(1, 13)])}\n",
    "    # assigning time for each project\n",
    "    for j in range(len(emp_df)):\n",
    "        employees[i]['projects'][emp_df.iloc[j]['Project Name']][calendar.month_name[emp_df['Month'].iloc[j]]] += \\\n",
    "            emp_df.iloc[j]['Number of Hours']\n",
    "\n"
   ]
  },
  {
   "cell_type": "code",
   "execution_count": 461,
   "metadata": {
    "collapsed": false,
    "pycharm": {
     "name": "#%%\n"
    }
   },
   "outputs": [
    {
     "data": {
      "text/plain": [
       "{'Ramesh R': {'name': 'Ramesh R',\n",
       "  'branch': 'Developer',\n",
       "  'projects': {'Karim Services': {'January': 130,\n",
       "    'February': 0,\n",
       "    'March': 0,\n",
       "    'April': 0,\n",
       "    'May': 0,\n",
       "    'June': 0,\n",
       "    'July': 0,\n",
       "    'August': 0,\n",
       "    'September': 0,\n",
       "    'October': 0,\n",
       "    'November': 0,\n",
       "    'December': 0},\n",
       "   'Starry Artworks': {'January': 0,\n",
       "    'February': 70,\n",
       "    'March': 0,\n",
       "    'April': 0,\n",
       "    'May': 0,\n",
       "    'June': 0,\n",
       "    'July': 0,\n",
       "    'August': 0,\n",
       "    'September': 0,\n",
       "    'October': 0,\n",
       "    'November': 0,\n",
       "    'December': 0},\n",
       "   'Hessington Oil': {'January': 10,\n",
       "    'February': 0,\n",
       "    'March': 0,\n",
       "    'April': 0,\n",
       "    'May': 0,\n",
       "    'June': 0,\n",
       "    'July': 0,\n",
       "    'August': 0,\n",
       "    'September': 0,\n",
       "    'October': 0,\n",
       "    'November': 0,\n",
       "    'December': 0},\n",
       "   'Skyler Parachutes': {'January': 0,\n",
       "    'February': 0,\n",
       "    'March': 20,\n",
       "    'April': 0,\n",
       "    'May': 0,\n",
       "    'June': 0,\n",
       "    'July': 0,\n",
       "    'August': 0,\n",
       "    'September': 0,\n",
       "    'October': 0,\n",
       "    'November': 0,\n",
       "    'December': 0}}},\n",
       " 'Suresh': {'name': 'Suresh',\n",
       "  'branch': 'Web Designer',\n",
       "  'projects': {'Karim Services': {'January': 100,\n",
       "    'February': 0,\n",
       "    'March': 0,\n",
       "    'April': 0,\n",
       "    'May': 0,\n",
       "    'June': 0,\n",
       "    'July': 0,\n",
       "    'August': 0,\n",
       "    'September': 0,\n",
       "    'October': 0,\n",
       "    'November': 0,\n",
       "    'December': 0}}},\n",
       " 'Ramcharan': {'name': 'Ramcharan',\n",
       "  'branch': 'Technical',\n",
       "  'projects': {'Skyler Parachutes': {'January': 0,\n",
       "    'February': 0,\n",
       "    'March': 0,\n",
       "    'April': 56,\n",
       "    'May': 0,\n",
       "    'June': 0,\n",
       "    'July': 0,\n",
       "    'August': 0,\n",
       "    'September': 0,\n",
       "    'October': 0,\n",
       "    'November': 0,\n",
       "    'December': 0}}},\n",
       " 'Rohit': {'name': 'Rohit',\n",
       "  'branch': 'Marketting',\n",
       "  'projects': {'Earthern Pans': {'January': 0,\n",
       "    'February': 0,\n",
       "    'March': 35,\n",
       "    'April': 0,\n",
       "    'May': 0,\n",
       "    'June': 0,\n",
       "    'July': 0,\n",
       "    'August': 0,\n",
       "    'September': 0,\n",
       "    'October': 0,\n",
       "    'November': 0,\n",
       "    'December': 0}}},\n",
       " 'William': {'name': 'William',\n",
       "  'branch': 'IT',\n",
       "  'projects': {'Karim Services': {'January': 0,\n",
       "    'February': 0,\n",
       "    'March': 75,\n",
       "    'April': 0,\n",
       "    'May': 0,\n",
       "    'June': 0,\n",
       "    'July': 0,\n",
       "    'August': 0,\n",
       "    'September': 0,\n",
       "    'October': 0,\n",
       "    'November': 0,\n",
       "    'December': 0}}},\n",
       " 'Sridhar': {'name': 'Sridhar',\n",
       "  'branch': 'Developer',\n",
       "  'projects': {'Karim Services': {'January': 80,\n",
       "    'February': 0,\n",
       "    'March': 0,\n",
       "    'April': 0,\n",
       "    'May': 0,\n",
       "    'June': 0,\n",
       "    'July': 0,\n",
       "    'August': 0,\n",
       "    'September': 0,\n",
       "    'October': 0,\n",
       "    'November': 0,\n",
       "    'December': 0}}}}"
      ]
     },
     "execution_count": 461,
     "metadata": {},
     "output_type": "execute_result"
    }
   ],
   "source": [
    "employees\n"
   ]
  },
  {
   "cell_type": "markdown",
   "metadata": {
    "collapsed": false,
    "pycharm": {
     "name": "#%% md\n"
    }
   },
   "source": [
    "# Creating Employee df\n"
   ]
  },
  {
   "cell_type": "code",
   "execution_count": 462,
   "metadata": {
    "collapsed": false,
    "pycharm": {
     "name": "#%%\n"
    }
   },
   "outputs": [
    {
     "data": {
      "text/html": [
       "<div>\n",
       "<style scoped>\n",
       "    .dataframe tbody tr th:only-of-type {\n",
       "        vertical-align: middle;\n",
       "    }\n",
       "\n",
       "    .dataframe tbody tr th {\n",
       "        vertical-align: top;\n",
       "    }\n",
       "\n",
       "    .dataframe thead th {\n",
       "        text-align: right;\n",
       "    }\n",
       "</style>\n",
       "<table border=\"1\" class=\"dataframe\">\n",
       "  <thead>\n",
       "    <tr style=\"text-align: right;\">\n",
       "      <th></th>\n",
       "      <th>name</th>\n",
       "      <th>branch</th>\n",
       "      <th>projects</th>\n",
       "    </tr>\n",
       "  </thead>\n",
       "  <tbody>\n",
       "    <tr>\n",
       "      <th>Ramesh R</th>\n",
       "      <td>Ramesh R</td>\n",
       "      <td>Developer</td>\n",
       "      <td>{'Karim Services': {'January': 130, 'February'...</td>\n",
       "    </tr>\n",
       "    <tr>\n",
       "      <th>Suresh</th>\n",
       "      <td>Suresh</td>\n",
       "      <td>Web Designer</td>\n",
       "      <td>{'Karim Services': {'January': 100, 'February'...</td>\n",
       "    </tr>\n",
       "    <tr>\n",
       "      <th>Ramcharan</th>\n",
       "      <td>Ramcharan</td>\n",
       "      <td>Technical</td>\n",
       "      <td>{'Skyler Parachutes': {'January': 0, 'February...</td>\n",
       "    </tr>\n",
       "    <tr>\n",
       "      <th>Rohit</th>\n",
       "      <td>Rohit</td>\n",
       "      <td>Marketting</td>\n",
       "      <td>{'Earthern Pans': {'January': 0, 'February': 0...</td>\n",
       "    </tr>\n",
       "    <tr>\n",
       "      <th>William</th>\n",
       "      <td>William</td>\n",
       "      <td>IT</td>\n",
       "      <td>{'Karim Services': {'January': 0, 'February': ...</td>\n",
       "    </tr>\n",
       "    <tr>\n",
       "      <th>Sridhar</th>\n",
       "      <td>Sridhar</td>\n",
       "      <td>Developer</td>\n",
       "      <td>{'Karim Services': {'January': 80, 'February':...</td>\n",
       "    </tr>\n",
       "  </tbody>\n",
       "</table>\n",
       "</div>"
      ],
      "text/plain": [
       "                name        branch  \\\n",
       "Ramesh R    Ramesh R     Developer   \n",
       "Suresh        Suresh  Web Designer   \n",
       "Ramcharan  Ramcharan     Technical   \n",
       "Rohit          Rohit    Marketting   \n",
       "William      William            IT   \n",
       "Sridhar      Sridhar     Developer   \n",
       "\n",
       "                                                    projects  \n",
       "Ramesh R   {'Karim Services': {'January': 130, 'February'...  \n",
       "Suresh     {'Karim Services': {'January': 100, 'February'...  \n",
       "Ramcharan  {'Skyler Parachutes': {'January': 0, 'February...  \n",
       "Rohit      {'Earthern Pans': {'January': 0, 'February': 0...  \n",
       "William    {'Karim Services': {'January': 0, 'February': ...  \n",
       "Sridhar    {'Karim Services': {'January': 80, 'February':...  "
      ]
     },
     "execution_count": 462,
     "metadata": {},
     "output_type": "execute_result"
    }
   ],
   "source": [
    "employee_df = pd.DataFrame(employees).transpose()\n",
    "# employee_df[[True if 'Karim Services' in i.keys() else False for i in employee_df.projects ]]\n",
    "employee_df\n"
   ]
  },
  {
   "cell_type": "markdown",
   "metadata": {
    "collapsed": false,
    "pycharm": {
     "name": "#%% md\n"
    }
   },
   "source": [
    "# Graphs\n"
   ]
  },
  {
   "cell_type": "code",
   "execution_count": 463,
   "metadata": {},
   "outputs": [],
   "source": [
    "plt.style.use('default')"
   ]
  },
  {
   "cell_type": "code",
   "execution_count": 464,
   "metadata": {},
   "outputs": [
    {
     "data": {
      "text/html": [
       "<div>\n",
       "<style scoped>\n",
       "    .dataframe tbody tr th:only-of-type {\n",
       "        vertical-align: middle;\n",
       "    }\n",
       "\n",
       "    .dataframe tbody tr th {\n",
       "        vertical-align: top;\n",
       "    }\n",
       "\n",
       "    .dataframe thead th {\n",
       "        text-align: right;\n",
       "    }\n",
       "</style>\n",
       "<table border=\"1\" class=\"dataframe\">\n",
       "  <thead>\n",
       "    <tr style=\"text-align: right;\">\n",
       "      <th></th>\n",
       "      <th>name</th>\n",
       "      <th>branch</th>\n",
       "      <th>projects</th>\n",
       "    </tr>\n",
       "  </thead>\n",
       "  <tbody>\n",
       "    <tr>\n",
       "      <th>Ramesh R</th>\n",
       "      <td>Ramesh R</td>\n",
       "      <td>Developer</td>\n",
       "      <td>{'Karim Services': {'January': 130, 'February'...</td>\n",
       "    </tr>\n",
       "    <tr>\n",
       "      <th>Suresh</th>\n",
       "      <td>Suresh</td>\n",
       "      <td>Web Designer</td>\n",
       "      <td>{'Karim Services': {'January': 100, 'February'...</td>\n",
       "    </tr>\n",
       "    <tr>\n",
       "      <th>Ramcharan</th>\n",
       "      <td>Ramcharan</td>\n",
       "      <td>Technical</td>\n",
       "      <td>{'Skyler Parachutes': {'January': 0, 'February...</td>\n",
       "    </tr>\n",
       "    <tr>\n",
       "      <th>Rohit</th>\n",
       "      <td>Rohit</td>\n",
       "      <td>Marketting</td>\n",
       "      <td>{'Earthern Pans': {'January': 0, 'February': 0...</td>\n",
       "    </tr>\n",
       "    <tr>\n",
       "      <th>William</th>\n",
       "      <td>William</td>\n",
       "      <td>IT</td>\n",
       "      <td>{'Karim Services': {'January': 0, 'February': ...</td>\n",
       "    </tr>\n",
       "    <tr>\n",
       "      <th>Sridhar</th>\n",
       "      <td>Sridhar</td>\n",
       "      <td>Developer</td>\n",
       "      <td>{'Karim Services': {'January': 80, 'February':...</td>\n",
       "    </tr>\n",
       "  </tbody>\n",
       "</table>\n",
       "</div>"
      ],
      "text/plain": [
       "                name        branch  \\\n",
       "Ramesh R    Ramesh R     Developer   \n",
       "Suresh        Suresh  Web Designer   \n",
       "Ramcharan  Ramcharan     Technical   \n",
       "Rohit          Rohit    Marketting   \n",
       "William      William            IT   \n",
       "Sridhar      Sridhar     Developer   \n",
       "\n",
       "                                                    projects  \n",
       "Ramesh R   {'Karim Services': {'January': 130, 'February'...  \n",
       "Suresh     {'Karim Services': {'January': 100, 'February'...  \n",
       "Ramcharan  {'Skyler Parachutes': {'January': 0, 'February...  \n",
       "Rohit      {'Earthern Pans': {'January': 0, 'February': 0...  \n",
       "William    {'Karim Services': {'January': 0, 'February': ...  \n",
       "Sridhar    {'Karim Services': {'January': 80, 'February':...  "
      ]
     },
     "execution_count": 464,
     "metadata": {},
     "output_type": "execute_result"
    }
   ],
   "source": [
    "employee_df"
   ]
  },
  {
   "cell_type": "code",
   "execution_count": 465,
   "metadata": {},
   "outputs": [
    {
     "name": "stdout",
     "output_type": "stream",
     "text": [
      "Earthern Pans        [0.8988850442137639, 0.3054978854286813, 0.206...\n",
      "Karim Services       [0.9886966551326413, 0.6573625528642827, 0.368...\n",
      "Hessington Oil       [0.9973087274125336, 0.9165705497885429, 0.609...\n",
      "Skyler Parachutes    [0.8977316416762784, 0.9569396386005383, 0.609...\n",
      "Starry Artworks      [0.6263744713571706, 0.8402153018069974, 0.412...\n",
      "free_time            [0.24805843906189928, 0.66720492118416, 0.3502...\n",
      "dtype: object\n"
     ]
    }
   ],
   "source": [
    "# so we want to plot 4 employees on a single horizontal bar chart. The legend must have the name of the projects that they are working on.\n",
    "# the x axis must have the months and the y axis must have the names of the employees.\n",
    "# the bar chart must have the number of hours that each employee is working on each project.\n",
    "# The legend must have the names of only those projects that the 4 employees we are displaying are working on.\n",
    "# So to get the legend we must first get our four employees. Then we must get the projects that they are working on.\n",
    "\n",
    "EMPLOYEE_PER_GRAGH = 4\n",
    "current_employees_df = employee_df.iloc[:EMPLOYEE_PER_GRAGH]\n",
    "projects_list = []\n",
    "\n",
    "# get the projects that the current employees are working on.\n",
    "\n",
    "# comprehension\n",
    "# projects_list = [i[1].projects.keys() for i in current_employees_df.iterrows()]\n",
    "# # get unique projects\n",
    "# projects_list = list(set([i for j in projects_list for i in j]))\n",
    "\n",
    "for i in current_employees_df.iterrows():\n",
    "    projects_list.extend(i[1].projects.keys())\n",
    "\n",
    "projects_list = list(set(projects_list))\n",
    "projects_list.append('free_time')\n",
    "category_colors = plt.colormaps['RdYlGn'](\n",
    "    np.linspace(0.15, 0.85, projects_list.__len__()))\n",
    "\n",
    "category_colors = pd.Series([i for i in category_colors], index=projects_list)\n",
    "# print(projects_list)\n",
    "print(category_colors)"
   ]
  },
  {
   "cell_type": "code",
   "execution_count": 466,
   "metadata": {},
   "outputs": [
    {
     "name": "stdout",
     "output_type": "stream",
     "text": [
      "                   January  February  March  April\n",
      "Earthern Pans            0         0      0      0\n",
      "Karim Services         130         0      0      0\n",
      "Hessington Oil          10         0      0      0\n",
      "Skyler Parachutes        0         0     20      0\n",
      "Starry Artworks          0        70      0      0\n",
      "free_time               10        80    130    150\n",
      "                   January  February  March  April\n",
      "Earthern Pans            0         0      0      0\n",
      "Karim Services         100         0      0      0\n",
      "Hessington Oil           0         0      0      0\n",
      "Skyler Parachutes        0         0      0      0\n",
      "Starry Artworks          0         0      0      0\n",
      "free_time               50       150    150    150\n",
      "                   January  February  March  April\n",
      "Earthern Pans            0         0      0      0\n",
      "Karim Services           0         0      0      0\n",
      "Hessington Oil           0         0      0      0\n",
      "Skyler Parachutes        0         0      0     56\n",
      "Starry Artworks          0         0      0      0\n",
      "free_time              150       150    150     94\n",
      "                   January  February  March  April\n",
      "Earthern Pans            0         0     35      0\n",
      "Karim Services           0         0      0      0\n",
      "Hessington Oil           0         0      0      0\n",
      "Skyler Parachutes        0         0      0      0\n",
      "Starry Artworks          0         0      0      0\n",
      "free_time              150       150    115    150\n"
     ]
    }
   ],
   "source": [
    "# now well create dataframes for each person for each project. The project list only has the names of the projects that the four employees are working on.\n",
    "employee_project_dataframes = {}\n",
    "employee_project_dataframes_cumsum = {}\n",
    "for i in current_employees_df.iterrows():\n",
    "    current_employee_df = pd.DataFrame(\n",
    "        index=projects_list, columns=these_months)\n",
    "    for j in i[1].projects.keys():\n",
    "        current_employee_df.loc[j] = i[1].projects[j]\n",
    "    current_employee_df.fillna(0, inplace=True)\n",
    "    current_employee_df.loc['free_time'] = monthly_hours - current_employee_df.sum(axis=0)\n",
    "    # current_employee_df['Colors'] = [i for i in category_colors]\n",
    "    # convert things in the dataframe to np arrays\n",
    "    for j in current_employee_df.columns:\n",
    "        current_employee_df[j] = np.array(current_employee_df[j])\n",
    "    \n",
    "            \n",
    "    print(current_employee_df)\n",
    "    employee_project_dataframes[i[0]] = current_employee_df\n",
    "    employee_project_dataframes_cumsum[i[0]] = current_employee_df.cumsum(axis=0)"
   ]
  },
  {
   "cell_type": "code",
   "execution_count": 467,
   "metadata": {},
   "outputs": [
    {
     "data": {
      "text/plain": [
       "{'Ramesh R':                    January  February  March  April\n",
       " Earthern Pans            0         0      0      0\n",
       " Karim Services         130         0      0      0\n",
       " Hessington Oil         140         0      0      0\n",
       " Skyler Parachutes      140         0     20      0\n",
       " Starry Artworks        140        70     20      0\n",
       " free_time              150       150    150    150,\n",
       " 'Suresh':                    January  February  March  April\n",
       " Earthern Pans            0         0      0      0\n",
       " Karim Services         100         0      0      0\n",
       " Hessington Oil         100         0      0      0\n",
       " Skyler Parachutes      100         0      0      0\n",
       " Starry Artworks        100         0      0      0\n",
       " free_time              150       150    150    150,\n",
       " 'Ramcharan':                    January  February  March  April\n",
       " Earthern Pans            0         0      0      0\n",
       " Karim Services           0         0      0      0\n",
       " Hessington Oil           0         0      0      0\n",
       " Skyler Parachutes        0         0      0     56\n",
       " Starry Artworks          0         0      0     56\n",
       " free_time              150       150    150    150,\n",
       " 'Rohit':                    January  February  March  April\n",
       " Earthern Pans            0         0     35      0\n",
       " Karim Services           0         0     35      0\n",
       " Hessington Oil           0         0     35      0\n",
       " Skyler Parachutes        0         0     35      0\n",
       " Starry Artworks          0         0     35      0\n",
       " free_time              150       150    150    150}"
      ]
     },
     "execution_count": 467,
     "metadata": {},
     "output_type": "execute_result"
    }
   ],
   "source": [
    "employee_project_dataframes_cumsum"
   ]
  },
  {
   "cell_type": "code",
   "execution_count": 470,
   "metadata": {},
   "outputs": [
    {
     "name": "stdout",
     "output_type": "stream",
     "text": [
      "Ramesh R ---------------------------------\n",
      "Suresh ---------------------------------\n",
      "Ramcharan ---------------------------------\n",
      "Rohit ---------------------------------\n"
     ]
    },
    {
     "data": {
      "text/plain": [
       "Text(0.5, 0.98, 'Employee Project Distribution')"
      ]
     },
     "execution_count": 470,
     "metadata": {},
     "output_type": "execute_result"
    },
    {
     "data": {
      "image/png": "[encoded data removed]",
      "text/plain": [
       "<Figure size 1500x500 with 4 Axes>"
      ]
     },
     "metadata": {},
     "output_type": "display_data"
    }
   ],
   "source": [
    "labels = list(these_months)\n",
    "first_one_done = False\n",
    "# making 4 subplots\n",
    "fig, axes = plt.subplots(EMPLOYEE_PER_GRAGH, sharex=True, sharey=True, figsize=(15, 5))\n",
    "plt.xlabel('Months')\n",
    "plt.subplots_adjust(hspace=0.1)\n",
    "\n",
    "# plt.tick_params(\n",
    "#     axis='x',          # changes apply to the x-axis\n",
    "#     which='both',      # both major and minor ticks are affected\n",
    "#     bottom=False,      # ticks along the bottom edge are off\n",
    "#     top=False,         # ticks along the top edge are off\n",
    "#     labelbottom=False)  # labels along the bottom edge are off\n",
    "\n",
    "# iterating through 4 subplots, each subplot is a different employee\n",
    "for ax, emp_names in zip(axes, employee_project_dataframes_cumsum.keys()):\n",
    "\n",
    "    # remove ticks on both axes for employees. \n",
    "    ax.tick_params(axis='x', which='both', bottom=False, \n",
    "                   top=False, labelbottom=False)\n",
    "    # ax.tick_params(axis='y', which='both', left=False,\n",
    "    #                labelleft=False)\n",
    "    # ax.invert_yaxis()\n",
    "    print(emp_names, '---------------------------------')\n",
    "    ax.set_ylabel(emp_names, rotation=0, labelpad=80)\n",
    "\n",
    "    # iterating through each project for that employee, there will be a few projects, and the y axis would have the months\n",
    "    for i, (colname, color) in enumerate(zip(projects_list, category_colors)):     \n",
    "\n",
    "        widths = employee_project_dataframes[emp_names].loc[colname]\n",
    "        # print(widths)\n",
    "        starts = employee_project_dataframes_cumsum[emp_names].loc[colname] - widths\n",
    "        # print(starts)\n",
    "        rects = ax.barh(labels, widths, left=starts,\n",
    "                    label=colname, color=color)\n",
    "        r, g, b, _ = color\n",
    "        text_color = 'white' if r * g * b < 0.3 else 'black'\n",
    "        # print rects\n",
    "        rects.datavalues = [np.nan if i == 0 else i for i in rects.datavalues]\n",
    "        # print(rects.datavalues)\n",
    "        ax.bar_label(rects, labels=rects.datavalues, \n",
    "                     label_type='center', color=text_color, padding=1, fmt='%.1f')\n",
    "    if(not first_one_done):\n",
    "        ax.legend(ncol=len(projects_list), loc='upper center',\n",
    "                    fontsize='small', bbox_to_anchor=(0.5, 2))\n",
    "        first_one_done = True\n",
    "    \n",
    "fig.suptitle('Employee Project Distribution')"
   ]
  }
 ],
 "metadata": {
  "kernelspec": {
   "display_name": "Python 3.10.8 ('GraphEnv': venv)",
   "language": "python",
   "name": "python3"
  },
  "language_info": {
   "codemirror_mode": {
    "name": "ipython",
    "version": 3
   },
   "file_extension": ".py",
   "mimetype": "text/x-python",
   "name": "python",
   "nbconvert_exporter": "python",
   "pygments_lexer": "ipython3",
   "version": "3.10.8"
  },
  "vscode": {
   "interpreter": {
    "hash": "954b12c6859e009e593b517872cd57fb74c52bdd7351784980b146fc30b12f28"
   }
  }
 },
 "nbformat": 4,
 "nbformat_minor": 0
}
