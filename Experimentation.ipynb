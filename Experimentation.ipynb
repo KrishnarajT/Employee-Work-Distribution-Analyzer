{
 "cells": [
  {
   "cell_type": "markdown",
   "metadata": {
    "pycharm": {
     "name": "#%% md\n"
    }
   },
   "source": [
    "# Importing stuff and declaring constants\n"
   ]
  },
  {
   "cell_type": "code",
   "execution_count": null,
   "metadata": {
    "pycharm": {
     "name": "#%%\n"
    }
   },
   "outputs": [],
   "source": [
    "import os\n",
    "import pandas as pd\n",
    "import calendar\n",
    "from datetime import datetime\n",
    "# import matplotlib_inline\n",
    "import matplotlib.pyplot as plt\n",
    "import numpy as np\n",
    "\n",
    "TOTAL_MONTHLY_HRS = 150\n",
    "monthly_hours = {calendar.month_name[i]: TOTAL_MONTHLY_HRS for i in range(1, 13)}\n",
    "monthly_hours = pd.Series(monthly_hours)\n",
    "monthly_hours"
   ]
  },
  {
   "cell_type": "markdown",
   "metadata": {
    "pycharm": {
     "name": "#%% md\n"
    }
   },
   "source": [
    "# Reading Excel\n"
   ]
  },
  {
   "cell_type": "code",
   "execution_count": null,
   "metadata": {
    "pycharm": {
     "name": "#%%\n"
    }
   },
   "outputs": [],
   "source": [
    "allocation_sheet_df = pd.read_excel(os.path.join(\n",
    "    os.getcwd(), './Main.xlsx'), sheet_name='Allocation')\n",
    "employee_sheet_df = pd.read_excel(os.path.join(\n",
    "    os.getcwd(), './Main.xlsx'), sheet_name='Employees')\n",
    "project_sheet_df = pd.read_excel(os.path.join(\n",
    "    os.getcwd(), './Main.xlsx'), sheet_name='Projects')\n"
   ]
  },
  {
   "cell_type": "markdown",
   "metadata": {
    "pycharm": {
     "name": "#%% md\n"
    }
   },
   "source": [
    "# Filtering Data\n"
   ]
  },
  {
   "cell_type": "code",
   "execution_count": null,
   "metadata": {
    "pycharm": {
     "name": "#%%\n"
    }
   },
   "outputs": [],
   "source": [
    "def get_month_number(month_name):\n",
    "    months = {month.lower(): index for index, month in enumerate(\n",
    "        calendar.month_name) if month}\n",
    "    return months[month_name.lower()]\n",
    "\n",
    "\n",
    "allocation_sheet_df['Month'] = [get_month_number(i) for i in allocation_sheet_df['Month']]\n",
    "allocation_sheet_df.dropna(inplace=True)\n",
    "allocation_sheet_df.drop_duplicates(inplace=True)\n",
    "allocation_sheet_df\n"
   ]
  },
  {
   "cell_type": "markdown",
   "metadata": {
    "pycharm": {
     "name": "#%% md\n"
    }
   },
   "source": [
    "# Creating Employees Dictionary which has everything\n",
    "\n",
    "This has all the data about that employee. Now this is a dictionary, and you can use this dictionary which has important data to then plot graphs\n"
   ]
  },
  {
   "cell_type": "code",
   "execution_count": null,
   "metadata": {
    "pycharm": {
     "name": "#%%\n"
    }
   },
   "outputs": [],
   "source": [
    "employees = {}\n",
    "# template\n",
    "# employee = {\n",
    "#     \"name\": \"\",\n",
    "#     \"position\": \"\",\n",
    "#     \"projects\": {'name': '', 'months' : months},\n",
    "# }\n",
    "\n",
    "for i in range(employee_sheet_df.__len__()):\n",
    "    employee = {'name': employee_sheet_df.iloc[i].values[0],\n",
    "                'branch': employee_sheet_df.iloc[i].values[1],\n",
    "                'projects': {},\n",
    "                }\n",
    "    employees[employee_sheet_df.iloc[i].values[0]] = employee\n",
    "\n",
    "\n",
    "newdf = []\n",
    "for _, i in enumerate(employees):\n",
    "    emp_df = allocation_sheet_df[i == allocation_sheet_df['Name of Employee']]\n",
    "    # adding projects\n",
    "    for j in range(len(emp_df)):\n",
    "        employees[i]['projects'][emp_df.iloc[j]['Project Name']] = {}\n",
    "        employees[i]['projects'][emp_df.iloc[j]['Project Name']] = {k: v for (k, v) in zip(\n",
    "            [calendar.month_name[i] for i in range(1, 13)], [0 for i in range(1, 13)])}\n",
    "    # assigning time for each project\n",
    "    for j in range(len(emp_df)):\n",
    "        employees[i]['projects'][emp_df.iloc[j]['Project Name']][calendar.month_name[emp_df['Month'].iloc[j]]] += \\\n",
    "            emp_df.iloc[j]['Number of Hours']\n",
    "\n"
   ]
  },
  {
   "cell_type": "code",
   "execution_count": null,
   "metadata": {
    "collapsed": true,
    "pycharm": {
     "name": "#%%\n"
    }
   },
   "outputs": [],
   "source": [
    "employees\n"
   ]
  },
  {
   "cell_type": "markdown",
   "metadata": {
    "pycharm": {
     "name": "#%% md\n"
    }
   },
   "source": [
    "# Creating Employee df\n"
   ]
  },
  {
   "cell_type": "code",
   "execution_count": null,
   "metadata": {
    "pycharm": {
     "name": "#%%\n"
    }
   },
   "outputs": [],
   "source": [
    "employee_df = pd.DataFrame(employees).transpose()\n",
    "# employee_df[[True if 'Karim Services' in i.keys() else False for i in employee_df.projects ]]\n",
    "employee_df\n"
   ]
  },
  {
   "cell_type": "markdown",
   "metadata": {
    "pycharm": {
     "name": "#%% md\n"
    }
   },
   "source": [
    "# Graphs\n"
   ]
  },
  {
   "cell_type": "code",
   "execution_count": null,
   "metadata": {},
   "outputs": [],
   "source": [
    "plt.style.use('default')"
   ]
  },
  {
   "cell_type": "code",
   "execution_count": null,
   "metadata": {},
   "outputs": [],
   "source": [
    "employee_df"
   ]
  },
  {
   "cell_type": "code",
   "execution_count": null,
   "metadata": {},
   "outputs": [],
   "source": [
    "# so we want to plot 4 employees on a single horizontal bar chart. The legend must have the name of the projects that they are working on.\n",
    "# the x axis must have the months and the y axis must have the names of the employees.\n",
    "# the bar chart must have the number of hours that each employee is working on each project.\n",
    "# The legend must have the names of only those projects that the 4 employees we are displaying are working on.\n",
    "# So to get the legend we must first get our four employees. Then we must get the projects that they are working on.\n",
    "\n",
    "EMPLOYEE_PER_GRAGH = 4\n",
    "current_employees_df = employee_df.iloc[:EMPLOYEE_PER_GRAGH]\n",
    "projects_list = []\n",
    "\n",
    "# get the projects that the current employees are working on.\n",
    "\n",
    "for i in current_employees_df.iterrows():\n",
    "    projects_list.extend(i[1].projects.keys())\n",
    "\n",
    "projects_list = list(set(projects_list))\n",
    "projects_list.append('free_time')\n",
    "category_colors_1 = plt.colormaps['RdYlGn'](np.linspace(0.15, 1, projects_list.__len__() - 1))\n",
    "\n",
    "category_color_green = [[0.429527104959631, 0.7540945790080739, 0.3914733082901554, 1.0]]\n",
    "colors_series = pd.Series(category_colors_1.tolist())\n",
    "colors_series = colors_series.sample(frac=1)\n",
    "\n",
    "# concat the green color to the end of the series\n",
    "colors_series = pd.concat([colors_series, pd.Series(category_color_green)])\n",
    "\n",
    "print(colors_series)\n",
    "category_colors = pd.Series([i for i in colors_series], index=projects_list)\n",
    "# print(projects_list)\n",
    "print(category_colors)\n",
    "\n",
    "these_months = [calendar.month_name[i] for i in range(datetime.now().month, datetime.now().month + 4)]"
   ]
  },
  {
   "cell_type": "code",
   "execution_count": null,
   "metadata": {},
   "outputs": [],
   "source": [
    "# now well create dataframes for each person for each project. The project list only has the names of the projects that the four employees are working on.\n",
    "employee_project_dataframes = {}\n",
    "employee_project_dataframes_cumsum = {}\n",
    "for i in current_employees_df.iterrows():\n",
    "    current_employee_df = pd.DataFrame(\n",
    "        index=projects_list, columns=these_months)\n",
    "    for j in i[1].projects.keys():\n",
    "        current_employee_df.loc[j] = i[1].projects[j]\n",
    "    current_employee_df.fillna(0, inplace=True)\n",
    "    current_employee_df.loc['free_time'] = monthly_hours - current_employee_df.sum(axis=0)\n",
    "    # current_employee_df['Colors'] = [i for i in category_colors]\n",
    "    # convert things in the dataframe to np arrays\n",
    "    for j in current_employee_df.columns:\n",
    "        current_employee_df[j] = np.array(current_employee_df[j])\n",
    "    \n",
    "            \n",
    "    print(current_employee_df)\n",
    "    employee_project_dataframes[i[0]] = current_employee_df\n",
    "    employee_project_dataframes[i[0]] = employee_project_dataframes[i[0]][employee_project_dataframes[i[0]] .columns[::-1]]\n",
    "    employee_project_dataframes_cumsum[i[0]] = current_employee_df.cumsum(axis=0)\n",
    "    employee_project_dataframes_cumsum[i[0]] = employee_project_dataframes_cumsum[i[0]][employee_project_dataframes_cumsum[i[0]] .columns[::-1]]\n"
   ]
  },
  {
   "cell_type": "code",
   "execution_count": null,
   "metadata": {},
   "outputs": [],
   "source": [
    "employee_project_dataframes['Ramesh R'][employee_project_dataframes['Ramesh R'].columns[::-1]]\n"
   ]
  },
  {
   "cell_type": "code",
   "execution_count": null,
   "metadata": {},
   "outputs": [],
   "source": [
    "labels = list(reversed(these_months))\n",
    "first_one_done = False\n",
    "# making 4 subplots\n",
    "fig, axes = plt.subplots(EMPLOYEE_PER_GRAGH, sharex=True, sharey=True, figsize=(15, 5))\n",
    "plt.xlabel('Months')\n",
    "plt.subplots_adjust(hspace=0.1)\n",
    "\n",
    "# plt.tick_params(\n",
    "#     axis='x',          # changes apply to the x-axis\n",
    "#     which='both',      # both major and minor ticks are affected\n",
    "#     bottom=False,      # ticks along the bottom edge are off\n",
    "#     top=False,         # ticks along the top edge are off\n",
    "#     labelbottom=False)  # labels along the bottom edge are off\n",
    "\n",
    "# iterating through 4 subplots, each subplot is a different employee\n",
    "for ax, emp_names in zip(axes, employee_project_dataframes_cumsum.keys()):\n",
    "\n",
    "    # remove ticks on both axes for employees. \n",
    "    ax.tick_params(axis='x', which='both', bottom=False, \n",
    "                   top=False, labelbottom=False)\n",
    "    # ax.tick_params(axis='y', which='both', left=False,\n",
    "    #                labelleft=False)\n",
    "    # ax.invert_yaxis()\n",
    "    print(emp_names, '---------------------------------')\n",
    "    ax.set_ylabel(emp_names, rotation=0, labelpad=80)\n",
    "\n",
    "    # iterating through each project for that employee, there will be a few projects, and the y axis would have the months\n",
    "    for i, (colname, color) in enumerate(zip(projects_list, category_colors)):     \n",
    "        widths = employee_project_dataframes[emp_names].loc[colname]\n",
    "        print(widths)\n",
    "        starts = employee_project_dataframes_cumsum[emp_names].loc[colname] - widths\n",
    "        rects = ax.barh(labels, widths, left=starts,\n",
    "                    label=colname, color=color)\n",
    "        r, g, b, _ = color\n",
    "        text_color = 'white' if r * g * b < 0.2 else 'black'\n",
    "        # print rects\n",
    "        rects.datavalues = [np.nan if i == 0 else i for i in rects.datavalues]\n",
    "        # print(rects.datavalues)\n",
    "        ax.bar_label(rects, labels=rects.datavalues, \n",
    "                     label_type='center', color=text_color, padding=1, fmt='%.1f')\n",
    "    if(not first_one_done):\n",
    "        ax.legend(ncol=len(projects_list), loc='upper center',\n",
    "                    fontsize='large', bbox_to_anchor=(0.5, 2))\n",
    "        first_one_done = True\n",
    "    \n",
    "# fig.suptitle('Employee Project Distribution')"
   ]
  },
  {
   "cell_type": "code",
   "execution_count": null,
   "metadata": {},
   "outputs": [],
   "source": [
    "plt.style.use('default')"
   ]
  },
  {
   "cell_type": "code",
   "execution_count": null,
   "metadata": {},
   "outputs": [],
   "source": [
    "import seaborn as sns\n",
    "matplotx.styles.dufte\n"
   ]
  },
  {
   "cell_type": "code",
   "execution_count": null,
   "metadata": {},
   "outputs": [],
   "source": [
    "# ax.set_color_cycle(sns.color_palette(\"coolwarm_r\", num_lines))\n",
    "my_colors = ListedColormap(sns.color_palette())\n"
   ]
  },
  {
   "cell_type": "code",
   "execution_count": null,
   "metadata": {},
   "outputs": [],
   "source": [
    "sns.color_palette()"
   ]
  },
  {
   "cell_type": "code",
   "execution_count": null,
   "metadata": {},
   "outputs": [],
   "source": [
    "from matplotlib.colors import ListedColormap\n"
   ]
  },
  {
   "cell_type": "code",
   "execution_count": 165,
   "metadata": {},
   "outputs": [],
   "source": [
    "variables_df = pd.read_excel(\n",
    "    os.path.join(os.getcwd(), \"./Main.xlsx\"), sheet_name=\"Variables\", header=0,\n",
    ")\n"
   ]
  },
  {
   "cell_type": "code",
   "execution_count": 166,
   "metadata": {},
   "outputs": [
    {
     "data": {
      "text/html": [
       "<div>\n",
       "<style scoped>\n",
       "    .dataframe tbody tr th:only-of-type {\n",
       "        vertical-align: middle;\n",
       "    }\n",
       "\n",
       "    .dataframe tbody tr th {\n",
       "        vertical-align: top;\n",
       "    }\n",
       "\n",
       "    .dataframe thead th {\n",
       "        text-align: right;\n",
       "    }\n",
       "</style>\n",
       "<table border=\"1\" class=\"dataframe\">\n",
       "  <thead>\n",
       "    <tr style=\"text-align: right;\">\n",
       "      <th></th>\n",
       "      <th>Variable</th>\n",
       "      <th>Value</th>\n",
       "    </tr>\n",
       "  </thead>\n",
       "  <tbody>\n",
       "    <tr>\n",
       "      <th>0</th>\n",
       "      <td>Number of People per Graph</td>\n",
       "      <td>4</td>\n",
       "    </tr>\n",
       "    <tr>\n",
       "      <th>1</th>\n",
       "      <td>Number of Working Hours Every Month</td>\n",
       "      <td>150</td>\n",
       "    </tr>\n",
       "  </tbody>\n",
       "</table>\n",
       "</div>"
      ],
      "text/plain": [
       "                              Variable  Value\n",
       "0           Number of People per Graph      4\n",
       "1  Number of Working Hours Every Month    150"
      ]
     },
     "execution_count": 166,
     "metadata": {},
     "output_type": "execute_result"
    }
   ],
   "source": [
    "variables_df"
   ]
  },
  {
   "cell_type": "code",
   "execution_count": 171,
   "metadata": {},
   "outputs": [
    {
     "data": {
      "text/html": [
       "<div>\n",
       "<style scoped>\n",
       "    .dataframe tbody tr th:only-of-type {\n",
       "        vertical-align: middle;\n",
       "    }\n",
       "\n",
       "    .dataframe tbody tr th {\n",
       "        vertical-align: top;\n",
       "    }\n",
       "\n",
       "    .dataframe thead th {\n",
       "        text-align: right;\n",
       "    }\n",
       "</style>\n",
       "<table border=\"1\" class=\"dataframe\">\n",
       "  <thead>\n",
       "    <tr style=\"text-align: right;\">\n",
       "      <th></th>\n",
       "      <th>Variable</th>\n",
       "      <th>Value</th>\n",
       "    </tr>\n",
       "  </thead>\n",
       "  <tbody>\n",
       "    <tr>\n",
       "      <th>0</th>\n",
       "      <td>Number of People per Graph</td>\n",
       "      <td>4</td>\n",
       "    </tr>\n",
       "    <tr>\n",
       "      <th>1</th>\n",
       "      <td>Number of Working Hours Every Month</td>\n",
       "      <td>150</td>\n",
       "    </tr>\n",
       "  </tbody>\n",
       "</table>\n",
       "</div>"
      ],
      "text/plain": [
       "                              Variable  Value\n",
       "0           Number of People per Graph      4\n",
       "1  Number of Working Hours Every Month    150"
      ]
     },
     "execution_count": 171,
     "metadata": {},
     "output_type": "execute_result"
    }
   ],
   "source": [
    "variables_df.iloc[:8]"
   ]
  },
  {
   "cell_type": "code",
   "execution_count": null,
   "metadata": {},
   "outputs": [],
   "source": []
  }
 ],
 "metadata": {
  "kernelspec": {
   "display_name": "Python 3 (ipykernel)",
   "language": "python",
   "name": "python3"
  },
  "language_info": {
   "codemirror_mode": {
    "name": "ipython",
    "version": 3
   },
   "file_extension": ".py",
   "mimetype": "text/x-python",
   "name": "python",
   "nbconvert_exporter": "python",
   "pygments_lexer": "ipython3",
   "version": "3.10.8"
  },
  "vscode": {
   "interpreter": {
    "hash": "954b12c6859e009e593b517872cd57fb74c52bdd7351784980b146fc30b12f28"
   }
  }
 },
 "nbformat": 4,
 "nbformat_minor": 1
}
